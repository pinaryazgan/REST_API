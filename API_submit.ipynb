{
  "nbformat": 4,
  "nbformat_minor": 0,
  "metadata": {
    "kernelspec": {
      "display_name": "Python 3",
      "language": "python",
      "name": "python3"
    },
    "language_info": {
      "codemirror_mode": {
        "name": "ipython",
        "version": 3
      },
      "file_extension": ".py",
      "mimetype": "text/x-python",
      "name": "python",
      "nbconvert_exporter": "python",
      "pygments_lexer": "ipython3",
      "version": "3.7.0"
    },
    "colab": {
      "name": "API-submit.ipynb",
      "provenance": [],
      "include_colab_link": true
    }
  },
  "cells": [
    {
      "cell_type": "markdown",
      "metadata": {
        "id": "view-in-github",
        "colab_type": "text"
      },
      "source": [
        "<a href=\"https://colab.research.google.com/github/pinaryazgan/REST_API/blob/main/API_submit.ipynb\" target=\"_parent\"><img src=\"https://colab.research.google.com/assets/colab-badge.svg\" alt=\"Open In Colab\"/></a>"
      ]
    },
    {
      "cell_type": "markdown",
      "metadata": {
        "id": "DkT_15_XpdE-"
      },
      "source": [
        "<h1>API Worksheet, Pınar Yazgan<span class=\"tocSkip\"></span></h1>\n",
        "<div class=\"toc\"><ul class=\"toc-item\"><li><span><a href=\"#1--Aims\" data-toc-modified-id=\"1--Aims-1\">1- Aims</a></span></li><li><span><a href=\"#2--Setup-Environment\" data-toc-modified-id=\"2--Setup-Environment-2\">2-Setup Environment</a></span></li><li><span><a href=\"#3--Get-Dataset\" data-toc-modified-id=\"3--Get-Dataset-3\">3-Get Dataset</a></span></li><li><span>\n",
        "<a href=\"#4--Description-Of-Data\" data-toc-modified-id=\"4--Description Of Data\">4-Description Of Data</a></span></li>\n",
        "<li><span><a href=\"#5--Get-Data\" data-toc-modified-id=\"5--Get Data\">5-Get Data</a></span></li>\n",
        "<li><span><a href=\"#6--Add-Extra-Data-To-The-Existing-Dataset\" data-toc-modified-id=\"6-Add-Extra-Data-To-The-Existing-Dataset\">6-Add Extra Data To The Existing Dataset</a></span></li><li><span><a href=\"#7--Replace-Data-In-The-Existing-Dataset\" data-toc-modified-id=\"7--Replace-Data-In-The-Existing-Dataset\">7-Replace Data In The Existing Dataset</a></span></li><li><span><a href=\"#8-Create-Table\" data-toc-modified-id=\"8--Create-Table\">8-Create Table</a></span></li></span>"
      ]
    },
    {
      "cell_type": "markdown",
      "metadata": {
        "id": "zUCgZlZFpdFA"
      },
      "source": [
        "preview-nb-api.sh API-submit.ipynb"
      ]
    },
    {
      "cell_type": "markdown",
      "metadata": {
        "id": "wPK-POCupdFB"
      },
      "source": [
        "# 1- Aims"
      ]
    },
    {
      "cell_type": "markdown",
      "metadata": {
        "id": "AulGmfpwpdFB"
      },
      "source": [
        "In this assignment I will create an Api with endpoints using get,post,put methods.\n",
        "\n",
        "GET: requests a representation of the specified resource. Requests using GET should only retrieve data and should have no other effect.\n",
        "POST: requests that the server accept the entity enclosed in the request as a new subordinate of the web resource identified by the URI. \n",
        "PUT: requests that the enclosed entity be stored under the supplied URI. If the URI refers to an already existing resource, it is modified.\n",
        "\n"
      ]
    },
    {
      "cell_type": "markdown",
      "metadata": {
        "id": "lCsrbAR8pdFB"
      },
      "source": [
        "# 2- Setup Environment"
      ]
    },
    {
      "cell_type": "code",
      "metadata": {
        "id": "zvkgTNGHpdFB"
      },
      "source": [
        "import json\n",
        "import pandas as pd\n",
        "import os\n",
        "import datetime, time\n",
        "import numpy as np\n",
        "import pandas as pd\n",
        "import datetime as dt\n",
        "import os\n",
        "import json\n",
        "\n",
        "from bokeh.plotting import figure\n",
        "from bokeh.resources import CDN\n",
        "from bokeh.embed import *\n",
        "from bokeh.plotting import figure, output_file, curdoc, show as bshow\n",
        "\n",
        "from bokeh.models import DatetimeTickFormatter, Legend, NumeralTickFormatter\n",
        "from bokeh.layouts import widgetbox, row, column, layout, gridplot\n",
        "from bokeh.models import ColumnDataSource, Toggle, BoxAnnotation, CustomJS\n",
        "from bokeh.models.widgets import DataTable, DateFormatter, TableColumn, Div\n",
        "\n",
        "from bokeh.io import curdoc, output_notebook\n",
        "from bokeh.plotting import show, figure\n",
        "\n",
        "# Kooplex related variables\n",
        "api_url = os.path.join(\"https://kooplex-edu.elte.hu/\", os.getenv(\"NB_URL\"), \"report\")\n"
      ],
      "execution_count": null,
      "outputs": []
    },
    {
      "cell_type": "markdown",
      "metadata": {
        "id": "oWdxB0AHpdFC"
      },
      "source": [
        "# 3- Get Dataset\n"
      ]
    },
    {
      "cell_type": "markdown",
      "metadata": {
        "id": "M2YFVIu0pdFC"
      },
      "source": [
        "I will use Electricity production by source - World Bank (2014) data here. This dataset shows us Nuclear (% electricity production) , Renewable electricity (% electricity production) , Nuclear + Renewables (% electricity production), \n",
        "Fossil fuels (% electricity production) from 1990 to 2014 in the world.\n"
      ]
    },
    {
      "cell_type": "code",
      "metadata": {
        "id": "f4fSeJI0pdFC",
        "outputId": "78dcfc4b-88c8-4259-a76e-bd4624063d6c"
      },
      "source": [
        "csvfile = 'data/Electricity production by source - World Bank (2014).csv'\n",
        "df = pd.read_csv(csvfile,parse_dates=[1])\n",
        "df.info()"
      ],
      "execution_count": null,
      "outputs": [
        {
          "output_type": "stream",
          "text": [
            "<class 'pandas.core.frame.DataFrame'>\n",
            "RangeIndex: 25 entries, 0 to 24\n",
            "Data columns (total 6 columns):\n",
            " #   Column                                                                Non-Null Count  Dtype         \n",
            "---  ------                                                                --------------  -----         \n",
            " 0   Entity                                                                25 non-null     object        \n",
            " 1   Year                                                                  25 non-null     datetime64[ns]\n",
            " 2   Nuclear (% electricity production) (World Bank (2014))                25 non-null     float64       \n",
            " 3   Renewable electricity (% electricity production) (World Bank (2014))  25 non-null     float64       \n",
            " 4   Nuclear + Renewables (% electricity production) (World Bank (2014))   25 non-null     float64       \n",
            " 5   Fossil fuels (% electricity production) (World Bank (2014))           25 non-null     float64       \n",
            "dtypes: datetime64[ns](1), float64(4), object(1)\n",
            "memory usage: 1.3+ KB\n"
          ],
          "name": "stdout"
        }
      ]
    },
    {
      "cell_type": "code",
      "metadata": {
        "id": "qHbqy_sypdFD"
      },
      "source": [
        "# for debugging \n",
        "REQUEST = json.dumps({\n",
        " 'args' : {}\n",
        "})"
      ],
      "execution_count": null,
      "outputs": []
    },
    {
      "cell_type": "code",
      "metadata": {
        "id": "pezVC3twpdFD",
        "outputId": "6800dcfd-73af-45ce-ff28-f580c13de63d"
      },
      "source": [
        "# GET /\n",
        "help_txt = (\"Please visit %s/help !\"%api_url)\n",
        "print(help_txt)"
      ],
      "execution_count": null,
      "outputs": [
        {
          "output_type": "stream",
          "text": [
            "Please visit https://kooplex-edu.elte.hu/notebook/fmx2hx-dataexplvisu/report/help !\n"
          ],
          "name": "stdout"
        }
      ]
    },
    {
      "cell_type": "markdown",
      "metadata": {
        "id": "1a1s7NLIpdFE"
      },
      "source": [
        "# 4- Description Of Data"
      ]
    },
    {
      "cell_type": "markdown",
      "metadata": {
        "id": "SLhWydEDpdFE"
      },
      "source": [
        "I want to describe of data and defined in help_txt. This returns documentation of the other endpoints."
      ]
    },
    {
      "cell_type": "code",
      "metadata": {
        "id": "cGIjAR5QpdFE",
        "outputId": "2c2bbefc-a4fb-4caa-bfdd-9ca108bf5aa2"
      },
      "source": [
        "# GET /help\n",
        "help_txt = (\"\"\"\n",
        "<h2>HELP</h2>\n",
        "<h4>GET /info</h4>\n",
        "Description: Retrieves some informations about the dataset\n",
        "Requires: No parameters required\n",
        "Example query: /api/info\n",
        "Example result: {\"name\": \"Nuclear % electricity production\",\" \"title\": \"Nuclear % electricity production\".... }\n",
        "\n",
        "<h4>GET /data</h4>\n",
        "Description: Retrieves Nuclear + Renewables (% electricity production) data the from and until the given years.\n",
        "Requires: \n",
        "<ul>\n",
        "<li> from (int)</li>\n",
        "<li> until (int)</li>\n",
        "<li> avg (Bool) (optional): calculates average of % electricity</li>\n",
        "</ul>\n",
        "Returns: \n",
        "<ul>\n",
        "<li> year</li>\n",
        "<li>Nuclear % electricity production </li>\n",
        "</ul>\n",
        "Example query: /api/data?from=2000&until=2010\n",
        "\n",
        "<h4>POST /api/data/</h4>\n",
        "Description: Adds an extra data point into the dataset for the given 'year' with the given 'value'\n",
        "Requires: \n",
        "<ul>\n",
        "<li> year (int) </li>\n",
        "<li> value (float)</li>\n",
        "</ul>\n",
        "Returns: \n",
        "<ul>\n",
        "<li> Status 200: upload successful</li>\n",
        "</ul>\n",
        "Example query: /api/data?year=2015&value=11.23456\n",
        "\n",
        "<h4>PUT /data/</h4>\n",
        "Description: Replaces an existing data point in the dataset for the given 'year' with the given 'value'\n",
        "Requires: \n",
        "<ul>\n",
        "<li> year (int) </li>\n",
        "<li> value (float)</li>\n",
        "</ul>\n",
        "Returns: \n",
        "<ul>\n",
        "<li> Status 200: upload successful</li>\n",
        "</ul>\n",
        "Example query: /api/data?year=2010&value=10.83278947\n",
        "\n",
        "<h4>GET /agg</h4>\n",
        "<ul>\n",
        "<li>Description: % electricity production according to their sources for the last <years>. </li>\n",
        "<li>Requires: years </li>\n",
        "<li>Returns: a number</li>\n",
        "<li>Example query: /api/agg?interval=6</li>\n",
        "</ul>\n",
        "\"\"\")\n",
        "help_txt=help_txt.replace('\\n',\"\")\n",
        "\n",
        "print(help_txt)"
      ],
      "execution_count": null,
      "outputs": [
        {
          "output_type": "stream",
          "text": [
            "<h2>HELP</h2><h4>GET /info</h4>Description: Retrieves some informations about the datasetRequires: No parameters requiredExample query: /api/infoExample result: {\"name\": \"Nuclear % electricity production\",\" \"title\": \"Nuclear % electricity production\".... }<h4>GET /data</h4>Description: Retrieves Nuclear + Renewables (% electricity production) data the from and until the given years.Requires: <ul><li> from (int)</li><li> until (int)</li><li> avg (Bool) (optional): calculates average of % electricity</li></ul>Returns: <ul><li> year</li><li>Nuclear % electricity production </li></ul>Example query: /api/data?from=2000&until=2010<h4>POST /api/data/</h4>Description: Adds an extra data point into the dataset for the given 'year' with the given 'value'Requires: <ul><li> year (int) </li><li> value (float)</li></ul>Returns: <ul><li> Status 200: upload successful</li></ul>Example query: /api/data?year=2015&value=11.23456<h4>PUT /data/</h4>Description: Replaces an existing data point in the dataset for the given 'year' with the given 'value'Requires: <ul><li> year (int) </li><li> value (float)</li></ul>Returns: <ul><li> Status 200: upload successful</li></ul>Example query: /api/data?year=2010&value=10.83278947<h4>GET /agg</h4><ul><li>Description: % electricity production according to their sources for the last <years>. </li><li>Requires: years </li><li>Returns: a number</li><li>Example query: /api/agg?interval=6</li></ul>\n"
          ],
          "name": "stdout"
        }
      ]
    },
    {
      "cell_type": "code",
      "metadata": {
        "id": "s2qCq9JhpdFE",
        "outputId": "ef8977c9-874b-4657-e042-7ed1f9b1d87e"
      },
      "source": [
        "# ResponseInfo GET /help\n",
        "print(json.dumps({\n",
        "    \"headers\" : {\n",
        "        \"Content-Type\" : \"text/html\"\n",
        "    },\n",
        "    \"status\" : 200\n",
        "}))\n"
      ],
      "execution_count": null,
      "outputs": [
        {
          "output_type": "stream",
          "text": [
            "{\"headers\": {\"Content-Type\": \"text/html\"}, \"status\": 200}\n"
          ],
          "name": "stdout"
        }
      ]
    },
    {
      "cell_type": "code",
      "metadata": {
        "id": "eNjsQE2YpdFF",
        "outputId": "770fe8ea-5f6a-4e0e-839c-29ad53d5c781"
      },
      "source": [
        "# GET /api/info\n",
        "req = json.loads(REQUEST)\n",
        "args = req['args']\n",
        "\n",
        "resp = {\n",
        "    \"name\":\"Nuclear % electricity production\",\n",
        "    \"title\":\"Nuclear % electricity production\",\n",
        "    \"dataset_id\": 240,\n",
        "    \"description\":\"Nuclear + Renewables (% electricity production) calculated .\",\n",
        "    \"sources\": {\n",
        "      \"name\": \"Nuclear % electricity production\",\n",
        "      \"dataPublishedBy\": \"Worldbank\"\n",
        "    }\n",
        "}\n",
        "\n",
        "\n",
        "print(json.dumps(resp))"
      ],
      "execution_count": null,
      "outputs": [
        {
          "output_type": "stream",
          "text": [
            "{\"name\": \"Nuclear % electricity production\", \"title\": \"Nuclear % electricity production\", \"dataset_id\": 240, \"description\": \"Nuclear + Renewables (% electricity production) calculated .\", \"sources\": {\"name\": \"Nuclear % electricity production\", \"dataPublishedBy\": \"Worldbank\"}}\n"
          ],
          "name": "stdout"
        }
      ]
    },
    {
      "cell_type": "code",
      "metadata": {
        "id": "8psvtxmVpdFF",
        "outputId": "98985bf1-b7c9-4bd3-ee99-d84d84f59982"
      },
      "source": [
        "# ResponseInfo GET /api/info\n",
        "print(json.dumps({\n",
        "    \"headers\" : {\n",
        "        \"Content-Type\" : \"application/json\"\n",
        "    },\n",
        "    \"status\" : 200\n",
        "}))"
      ],
      "execution_count": null,
      "outputs": [
        {
          "output_type": "stream",
          "text": [
            "{\"headers\": {\"Content-Type\": \"application/json\"}, \"status\": 200}\n"
          ],
          "name": "stdout"
        }
      ]
    },
    {
      "cell_type": "markdown",
      "metadata": {
        "id": "LnWmKDxjpdFF"
      },
      "source": [
        "# 5- Get Data"
      ]
    },
    {
      "cell_type": "markdown",
      "metadata": {
        "id": "URGTZzw8pdFF"
      },
      "source": [
        "Retrieves Nuclear + Renewables (% electricity production) data the from and until the given years."
      ]
    },
    {
      "cell_type": "code",
      "metadata": {
        "id": "p-LYpX5apdFG",
        "outputId": "fe1acc1b-1807-4bde-c81c-d5cefe0dc83c"
      },
      "source": [
        "# GET /api/data\n",
        "req = json.loads(REQUEST)\n",
        "args = req['args']\n",
        "\n",
        "response = \"\"\n",
        "\n",
        "if not \"from\" in args or not \"until\" in args:\n",
        "    response = {\"Error\": \"Missing argument. Expecting both 'from' and 'until'\"}  \n",
        "else:\n",
        "    date_from = pd.to_datetime(args[\"from\"][0], format=\"%Y\")\n",
        "    date_until = pd.to_datetime(args[\"until\"][0], format=\"%Y\")\n",
        "    if date_from >= date_until:\n",
        "        response = {\"queryParams\" : query_params_dict, \"message\" : \"'from' should be an earlier year than until\"}\n",
        "    elif (date_from > df.Year.max()) or (date_until<df.Year.min()):\n",
        "        query_params_dict = {\"from\" : args[\"from\"][0], \"until\" : args[\"until\"][0]}\n",
        "        response = {\n",
        "            \"queryParams\" : query_params_dict,\n",
        "            \"message\" : \"valid range for 'from' and 'until' is between {} and {} \".format(df['Year'].dt.strftime('%Y').min(), \n",
        "                                                                                          df['Year'].dt.strftime('%Y').max())\n",
        "        }\n",
        "    else:\n",
        "        query_params_dict = {\"from\" : args[\"from\"][0], \"until\" : args[\"until\"][0]}\n",
        "        \n",
        "        rows = df[(df[\"Year\"] >= date_from) &\n",
        "                             (df[\"Year\"] <= date_until)][[\"Year\", \"Nuclear + Renewables (% electricity production) (World Bank (2014))\"]].copy()\n",
        "        if \"avg\" in args and args.get(\"avg\", False):\n",
        "            data_dict = {\"average\" : rows['Nuclear + Renewables (% electricity production) (World Bank (2014))'].mean()}\n",
        "        else:\n",
        "            data_dict = [{\"date\" : date.strftime('%Y'), \"Nuclear + Renewables (% electricity production) (World Bank (2014))\" : numbers} \n",
        "                     for date, numbers in rows.values ]\n",
        "        \n",
        "        response = {\n",
        "            \"queryParams\" : query_params_dict, \n",
        "            \"data\" : data_dict\n",
        "        }\n",
        "    \n",
        "print (json.dumps (response))\n"
      ],
      "execution_count": null,
      "outputs": [
        {
          "output_type": "stream",
          "text": [
            "{\"Error\": \"Missing argument. Expecting both 'from' and 'until'\"}\n"
          ],
          "name": "stdout"
        }
      ]
    },
    {
      "cell_type": "code",
      "metadata": {
        "id": "L7db8stnpdFG",
        "outputId": "f0549dca-eb8c-46a6-df08-c41c12e422b3"
      },
      "source": [
        "# ResponseInfo GET /api/data\n",
        "print(json.dumps({\n",
        "    \"headers\" : {\n",
        "        \"Content-Type\" : \"application/json\"\n",
        "    },\n",
        "    \"status\" : 200\n",
        "}))"
      ],
      "execution_count": null,
      "outputs": [
        {
          "output_type": "stream",
          "text": [
            "{\"headers\": {\"Content-Type\": \"application/json\"}, \"status\": 200}\n"
          ],
          "name": "stdout"
        }
      ]
    },
    {
      "cell_type": "markdown",
      "metadata": {
        "id": "CjIScGmwpdFG"
      },
      "source": [
        "# 6- Add Extra Data To The Existing Dataset"
      ]
    },
    {
      "cell_type": "markdown",
      "metadata": {
        "id": "_KOKMEP4pdFG"
      },
      "source": [
        "Post method add new data to the dataset. Here I check If the date is an existing value or not. If the date exists then gives an error."
      ]
    },
    {
      "cell_type": "code",
      "metadata": {
        "id": "Ffb48BFupdFH",
        "outputId": "8e52b68d-7885-47dd-8a3d-b4f12792050c"
      },
      "source": [
        "# POST /api/data\n",
        "req = json.loads(REQUEST)\n",
        "args = req['args']\n",
        "\n",
        "if not \"date\" in args or not \"value\" in args:\n",
        "    response = { \"Error\" : \"Missing argument. Expecting both 'date' and 'value'\" }\n",
        "    print (json.dumps (response))\n",
        "else:\n",
        "    date = args[\"date\"][0]\n",
        "    value = float(args[\"value\"][0])\n",
        "    if (df.Year.dt.strftime(\"%Y\")==date).sum():\n",
        "        response = {\n",
        "            \"Error\" : \"'date' should not be an existing value\"\n",
        "            }\n",
        "        print (json.dumps (response))\n",
        "    else:\n",
        "        new_row = {'Year': pd.to_datetime(date),\n",
        "                   'Nuclear (% electricity production) (World Bank (2014))': value,\n",
        "                   'Renewable electricity (% electricity production) (World Bank (2014))': value,\n",
        "                   'Nuclear + Renewables (% electricity production) (World Bank (2014))': value,\n",
        "                   'Fossil fuels (% electricity production) (World Bank (2014))': value,\n",
        "                   'Entity': 'World'}\n",
        "        df = df.append(new_row, ignore_index=True)\n",
        "        df.to_csv(fname, index=False, index_label=None)\n",
        "        response = {\n",
        "            \"Message\" : \"upload successful\"\n",
        "        }\n",
        "        print (json.dumps (response))\n",
        "\n",
        "\n",
        "# curl -X POST \"https://kooplex-edu.elte.hu/notebook/wfct0p-rere-wfct0p/report/api/data?date=1718&value=2.324\""
      ],
      "execution_count": null,
      "outputs": [
        {
          "output_type": "stream",
          "text": [
            "{\"Error\": \"Missing argument. Expecting both 'date' and 'value'\"}\n"
          ],
          "name": "stdout"
        }
      ]
    },
    {
      "cell_type": "code",
      "metadata": {
        "id": "mF7uL7pIpdFH",
        "outputId": "373465d4-f431-4c48-d7ae-4b33a95771d5"
      },
      "source": [
        "# ResponseInfo POST /api/data\n",
        "print(json.dumps({\n",
        "    \"headers\" : {\n",
        "        \"Content-Type\" : \"application/json\"\n",
        "    },\n",
        "    \"status\" : 200\n",
        "}))"
      ],
      "execution_count": null,
      "outputs": [
        {
          "output_type": "stream",
          "text": [
            "{\"headers\": {\"Content-Type\": \"application/json\"}, \"status\": 200}\n"
          ],
          "name": "stdout"
        }
      ]
    },
    {
      "cell_type": "markdown",
      "metadata": {
        "id": "URxPej6_pdFH"
      },
      "source": [
        "# 7-Replace Data In The Existing Dataset"
      ]
    },
    {
      "cell_type": "markdown",
      "metadata": {
        "id": "j0Frs9TwpdFH"
      },
      "source": [
        "PUT method is used for replacing data in the existing dataset. Here I want to replace Nuclear (% electricity production) data."
      ]
    },
    {
      "cell_type": "code",
      "metadata": {
        "id": "Zz1_va3TpdFI",
        "outputId": "35fd335c-caba-4f9e-a579-32fff5179dc2"
      },
      "source": [
        "# PUT /api/data\n",
        "req = json.loads(REQUEST)\n",
        "args = req['args']\n",
        "\n",
        "response = \"\"\n",
        "\n",
        "if not \"date\" in args or not \"value\" in args:\n",
        "    response = {\n",
        "    \"Error\" : \"Missing argument. Expecting both 'date' and 'value'\"\n",
        "    }\n",
        "    print (json.dumps (response))\n",
        "else:\n",
        "    date = args[\"date\"][0]\n",
        "    value = float(args[\"value\"][0])\n",
        "    if not (df.Year.dt.strftime(\"%Y\")==date).sum():\n",
        "        response = {\n",
        "            \"Error\" : \"'date' should be an existing one\"\n",
        "            }\n",
        "        \n",
        "    else:\n",
        "        df.loc[df.Year.dt.strftime(\"%Y\")==date, 'Nuclear (% electricity production) (World Bank (2014))'] = value\n",
        "        df.to_csv(fname, index=False, index_label=None)\n",
        "        response = {\n",
        "            \"Message\" : \"Data has been changed\",\n",
        "            \"Year\": date,\n",
        "            \"New value\": value\n",
        "        }\n",
        "        \n",
        "print (json.dumps (response))"
      ],
      "execution_count": null,
      "outputs": [
        {
          "output_type": "stream",
          "text": [
            "{\"Error\": \"Missing argument. Expecting both 'date' and 'value'\"}\n",
            "{\"Error\": \"Missing argument. Expecting both 'date' and 'value'\"}\n"
          ],
          "name": "stdout"
        }
      ]
    },
    {
      "cell_type": "code",
      "metadata": {
        "id": "RVAMEAKSpdFI",
        "outputId": "6b6c64cd-2a9e-4505-e374-d79bfa5f6017"
      },
      "source": [
        "# GET /api/agg\n",
        "req = json.loads(REQUEST)\n",
        "args = req['args']\n",
        "\n",
        "response = {\n",
        "    \"Error\" : \"This function is not implemented yet\" \n",
        "}\n",
        "print(json.dumps (response))"
      ],
      "execution_count": null,
      "outputs": [
        {
          "output_type": "stream",
          "text": [
            "{\"Error\": \"This function is not implemented yet\"}\n"
          ],
          "name": "stdout"
        }
      ]
    },
    {
      "cell_type": "code",
      "metadata": {
        "id": "n6gVq3J6pdFI",
        "outputId": "99f7f910-08cd-4883-b7e0-25326c5a65a5"
      },
      "source": [
        "# GET /:nothingfound\n",
        "\n",
        "print (\"You seem lost, try /help\")"
      ],
      "execution_count": null,
      "outputs": [
        {
          "output_type": "stream",
          "text": [
            "You seem lost, try /help\n"
          ],
          "name": "stdout"
        }
      ]
    },
    {
      "cell_type": "markdown",
      "metadata": {
        "id": "nk_1LSOypdFI"
      },
      "source": [
        "# 8-Create A Table"
      ]
    },
    {
      "cell_type": "markdown",
      "metadata": {
        "id": "D_sRzXLkpdFI"
      },
      "source": [
        "I will create a table consists of Nuclear (% electricity production),Renewable electricity (% electricity production),\n",
        "Nuclear + Renewables (% electricity production),Fossil fuels (% electricity production)"
      ]
    },
    {
      "cell_type": "code",
      "metadata": {
        "id": "Jw38hAjApdFI"
      },
      "source": [
        "req = json.loads(REQUEST)\n",
        "args = req['args']\n"
      ],
      "execution_count": null,
      "outputs": []
    },
    {
      "cell_type": "code",
      "metadata": {
        "id": "Tv0gImetpdFJ",
        "outputId": "822add17-13a1-4f48-a3f7-efa1a01734a8"
      },
      "source": [
        "data_source = ColumnDataSource(df)\n",
        "print(data_source)"
      ],
      "execution_count": null,
      "outputs": [
        {
          "output_type": "stream",
          "text": [
            "ColumnDataSource(id='1729', ...)\n"
          ],
          "name": "stdout"
        }
      ]
    },
    {
      "cell_type": "code",
      "metadata": {
        "id": "x0fTD1SqpdFJ",
        "outputId": "8df58ff1-0c92-4f59-9fd7-a7a9f523ddaa"
      },
      "source": [
        "source = ColumnDataSource(df)\n",
        "output_file(\"data_table.html\")\n",
        "columns = [\n",
        "\n",
        "    \n",
        "    TableColumn(field=\"Nuclear (% electricity production) (World Bank (2014))\", title=\"Nuclear (% electricity production)\"),\n",
        "    TableColumn(field=\"Renewable electricity (% electricity production) (World Bank (2014))\", title=\"Renewable electricity (% electricity production)\"),\n",
        "    TableColumn(field=\"Nuclear + Renewables (% electricity production) (World Bank (2014))\", title=\"Nuclear + Renewables (% electricity production)\"),\n",
        "    TableColumn(field=\"Fossil fuels (% electricity production) (World Bank (2014))\", title=\"Fossil fuels (% electricity production)\"),\n",
        "    \n",
        "    ]\n",
        "data_table = DataTable(source=source, columns=columns, width=1000, height=400)\n",
        "\n",
        "\n",
        "show(widgetbox(data_table))\n",
        "print(data_table)"
      ],
      "execution_count": null,
      "outputs": [
        {
          "output_type": "stream",
          "text": [
            "DataTable(id='1735', ...)\n"
          ],
          "name": "stdout"
        }
      ]
    },
    {
      "cell_type": "code",
      "metadata": {
        "id": "9F99QfxBpdFJ",
        "outputId": "eca8c887-6bf2-414f-df8c-c7cc37bec884"
      },
      "source": [
        "source"
      ],
      "execution_count": null,
      "outputs": [
        {
          "output_type": "execute_result",
          "data": {
            "text/html": [
              "<div style=\"display: table;\"><div style=\"display: table-row;\"><div style=\"display: table-cell;\"><b title=\"bokeh.models.sources.ColumnDataSource\">ColumnDataSource</b>(</div><div style=\"display: table-cell;\">id&nbsp;=&nbsp;'1730', <span id=\"1830\" style=\"cursor: pointer;\">&hellip;)</span></div></div><div class=\"1829\" style=\"display: none;\"><div style=\"display: table-cell;\"></div><div style=\"display: table-cell;\">callback&nbsp;=&nbsp;None,</div></div><div class=\"1829\" style=\"display: none;\"><div style=\"display: table-cell;\"></div><div style=\"display: table-cell;\">data&nbsp;=&nbsp;{'Nuclear (% electricity production) (World Bank (2014))': {'__ndarray__': '+KAM+nfrMECzsRLzrE4xQA5cDom1TTFAcv4mFCJuMUA4hXT8QGoxQApFgPTJgjFAPwcS67+XMUBzLuZjTg4xQOlj/AP++zBAcPtxPQIYMUBCB5/ec7YwQIrympEg4zBAwmWZbqdkMECDPFDh51MvQNIHw2eIHi9ACGhL66koLkCLPc0stkktQNPiY+IcWCtAhzw4jg74KkC6U3QDibQqQCEG2wTvmClAbeNPVDY6J0BYrpa/a6MlQKAZBiRILCVA8FYSsIg/JUA=', 'shape': (25,), 'dtype': 'float64'}, 'Year': {'__ndarray__': 'AACA53JeYkIAAAANaUljQgAAgDJfNGRCAACAI/ofZUIAAABJ8ApmQgAAgG7m9WZCAAAAlNzgZ0IAAACFd8xoQgAAgKptt2lCAAAA0GOiakIAAID1WY1rQgAAgOb0eGxCAAAADOtjbUIAAIAx4U5uQgAAAFfXOW9CAAAAJLkScEIAAMA2NIhwQgAAgEmv/XBCAABAXCpzcUIAAMDU9+hxQgAAgOdyXnJCAABA+u3TckIAAAANaUlzQgAAgIU2v3NCAABAmLE0dEI=', 'shape': (25,), 'dtype': 'float64'}, 'index': [0, 1, 2, 3, 4, 5, 6, 7, 8, 9, 10, 11, 12, 13, 14, 15, 16, 17, 18, 19, 20, 21, 22, 23, 24], 'Fossil fuels (% electricity production) (World Bank (2014))': {'__ndarray__': 'Wne5qf3bT0BQ+Xw52LpPQCyMgEzjxE9AdTklICZkT0A1tODJF4ZPQL7Xc0bSU09AIdD0bZxzT0AA5MYl9cdPQJqwHnN1/U9Ay9RFhmwPUEAtIorJGz1QQPSmAQedT1BAfEGwT2V0UEC15Exub71QQPQw1UiiqFBAhKkcSfi9UEDIOfsUkc9QQFOKRgz1HFFAFYqVTdD9UEDhBiHFZdRQQLczn7XT6FBAu3IH+wAdUUC3BfC7jhJRQL/kbxCn71BA2uOFdLjBUEA=', 'shape': (25,), 'dtype': 'float64'}, 'Entity': ['World', 'World', 'World', 'World', 'World', 'World', 'World', 'World', 'World', 'World', 'World', 'World', 'World', 'World', 'World', 'World', 'World', 'World', 'World', 'World', 'World', 'World', 'World', 'World', 'World'], 'Renewable electricity (% electricity production) (World Bank (2014))': {'__ndarray__': 'U3CAsoxcM0CtW/OZojszQJmL8N2DKDNApI6Oq5HJM0BdEspvj4kzQHoLmH6R1TNAf1gEOQeBM0COCYxQx2EzQOI6xhUXCTNAYrF2qUuqMkAJcDj7HFUyQKVxXlJr3jFAT5SlUsPJMUDqTiRWTmAxQEW4yagyzjFA7KXn5cnzMUAceqyV4BwyQErls10d4DFAZ7mNgreMMkCgusFpJFQzQBKuFac5kDNAXUO66eDuM0D4kXQwD+Q0QDNgPaw/qzVAH0Xf1VlZNkA=', 'shape': (25,), 'dtype': 'float64'}, 'Nuclear + Renewables (% electricity production) (World Bank (2014))': {'__ndarray__': 'pohGVgIkQkCwBoPGJ0VCQNRzf7McO0JAi8ba39mbQkDLSx826HlCQEIojLktrEJA3y8LkmOMQkAAHDnaCjhCQGZP4YyKAkJAaVZ08ybhQUClu+tsyIVBQBiy/PHFYEFACH2fYDUXQUCWNmYjIYVAQBeeVW67rkBA+KzGbQ+EQEBxjAnW3WBAQLTW5c4rjD9A1evUZF8EQEA+8r11NFdAQJGYwZRYLkBAFDXiE/yLP0Ak6T8QxbU/QIE2IN+xIEBATDj0Fo98QEA=', 'shape': (25,), 'dtype': 'float64'}},</div></div><div class=\"1829\" style=\"display: none;\"><div style=\"display: table-cell;\"></div><div style=\"display: table-cell;\">js_event_callbacks&nbsp;=&nbsp;{},</div></div><div class=\"1829\" style=\"display: none;\"><div style=\"display: table-cell;\"></div><div style=\"display: table-cell;\">js_property_callbacks&nbsp;=&nbsp;{},</div></div><div class=\"1829\" style=\"display: none;\"><div style=\"display: table-cell;\"></div><div style=\"display: table-cell;\">name&nbsp;=&nbsp;None,</div></div><div class=\"1829\" style=\"display: none;\"><div style=\"display: table-cell;\"></div><div style=\"display: table-cell;\">selected&nbsp;=&nbsp;Selection(id='1747', ...),</div></div><div class=\"1829\" style=\"display: none;\"><div style=\"display: table-cell;\"></div><div style=\"display: table-cell;\">selection_policy&nbsp;=&nbsp;UnionRenderers(id='1746', ...),</div></div><div class=\"1829\" style=\"display: none;\"><div style=\"display: table-cell;\"></div><div style=\"display: table-cell;\">subscribed_events&nbsp;=&nbsp;[],</div></div><div class=\"1829\" style=\"display: none;\"><div style=\"display: table-cell;\"></div><div style=\"display: table-cell;\">tags&nbsp;=&nbsp;[])</div></div></div>\n",
              "<script>\n",
              "(function() {\n",
              "  var expanded = false;\n",
              "  var ellipsis = document.getElementById(\"1830\");\n",
              "  ellipsis.addEventListener(\"click\", function() {\n",
              "    var rows = document.getElementsByClassName(\"1829\");\n",
              "    for (var i = 0; i < rows.length; i++) {\n",
              "      var el = rows[i];\n",
              "      el.style.display = expanded ? \"none\" : \"table-row\";\n",
              "    }\n",
              "    ellipsis.innerHTML = expanded ? \"&hellip;)\" : \"&lsaquo;&lsaquo;&lsaquo;\";\n",
              "    expanded = !expanded;\n",
              "  });\n",
              "})();\n",
              "</script>\n"
            ],
            "text/plain": [
              "ColumnDataSource(id='1730', ...)"
            ]
          },
          "metadata": {
            "tags": []
          },
          "execution_count": 108
        }
      ]
    },
    {
      "cell_type": "code",
      "metadata": {
        "id": "X2adeqkHpdFJ"
      },
      "source": [
        ""
      ],
      "execution_count": null,
      "outputs": []
    }
  ]
}